{
 "cells": [
  {
   "cell_type": "code",
   "execution_count": 26,
   "id": "a6887119",
   "metadata": {},
   "outputs": [
    {
     "name": "stdout",
     "output_type": "stream",
     "text": [
      "True\n"
     ]
    }
   ],
   "source": [
    "#1. Given an array, check if it contains any duplicates or not.\n",
    "\n",
    "def duplicate(arr,n):\n",
    "    for i in range(n):\n",
    "        for j in range(i+1,n):\n",
    "            if arr[i]==arr[j]: # single occurence of duplicate element returns true\n",
    "                return True\n",
    "    return False\n",
    "\n",
    "\n",
    "arr = [1, 2, 4, 2, 5, 9]\n",
    "n=len(arr)\n",
    "result=duplicate(arr,n)\n",
    "print(result)      "
   ]
  },
  {
   "cell_type": "code",
   "execution_count": null,
   "id": "8a5d54e0",
   "metadata": {},
   "outputs": [],
   "source": []
  },
  {
   "cell_type": "code",
   "execution_count": 27,
   "id": "110d075e",
   "metadata": {},
   "outputs": [
    {
     "name": "stdout",
     "output_type": "stream",
     "text": [
      "[5, 6, 7, 1, 2, 3, 4]\n"
     ]
    }
   ],
   "source": [
    "#2. Given an array and an integer k, rotate the array to the right by k steps.\n",
    "\n",
    "def rotate(arr,k):\n",
    "    n=len(arr)\n",
    "    k=k%n\n",
    "    r=arr[k+1:n]+arr[0:k+1]\n",
    "    return r\n",
    "        \n",
    "\n",
    "arr = [1, 2, 3, 4, 5, 6, 7] \n",
    "k = 3\n",
    "result=rotate(arr,k)\n",
    "print(result)"
   ]
  },
  {
   "cell_type": "code",
   "execution_count": null,
   "id": "788cc031",
   "metadata": {},
   "outputs": [],
   "source": []
  },
  {
   "cell_type": "code",
   "execution_count": 28,
   "id": "4fba7183",
   "metadata": {},
   "outputs": [
    {
     "name": "stdout",
     "output_type": "stream",
     "text": [
      "[12, 9, 7, 5, 4, 2]\n"
     ]
    }
   ],
   "source": [
    "#3. Reverse the given array in-place, means without using any extra data structure.\n",
    "def swap(arr,i,j):\n",
    "    arr[i],arr[j]=arr[j],arr[i]\n",
    "\n",
    "def reverse(arr,n):\n",
    "    i=0\n",
    "    j=n-1\n",
    "    while i<=j:\n",
    "        swap(arr,i,j) # calling swap function\n",
    "        i+=1\n",
    "        j-=1\n",
    "    return arr\n",
    "\n",
    "arr = [2, 4, 5, 7, 9, 12]\n",
    "n=len(arr)\n",
    "result=reverse(arr,n)\n",
    "print(result)"
   ]
  },
  {
   "cell_type": "code",
   "execution_count": null,
   "id": "73947774",
   "metadata": {},
   "outputs": [],
   "source": []
  },
  {
   "cell_type": "code",
   "execution_count": 29,
   "id": "13463e0d",
   "metadata": {},
   "outputs": [
    {
     "name": "stdout",
     "output_type": "stream",
     "text": [
      "20\n"
     ]
    }
   ],
   "source": [
    "#4. Given an array of integers, find the maximum element in an array\n",
    "\n",
    "def findMax(arr,n):\n",
    "    max=arr[0]\n",
    "    for i in range(1,n):\n",
    "        if arr[i]>max:\n",
    "            max=arr[i]\n",
    "    return max\n",
    "\n",
    "arr = [10, 5, 20, 8, 15]\n",
    "n=len(arr)\n",
    "result=findMax(arr,n)\n",
    "print(result)"
   ]
  },
  {
   "cell_type": "code",
   "execution_count": null,
   "id": "b06c1bb9",
   "metadata": {},
   "outputs": [],
   "source": [
    "\n"
   ]
  },
  {
   "cell_type": "code",
   "execution_count": 30,
   "id": "061b07df",
   "metadata": {},
   "outputs": [
    {
     "name": "stdout",
     "output_type": "stream",
     "text": [
      "[1, 2, 3, 4, 5]\n"
     ]
    }
   ],
   "source": [
    "#5. Given a sorted array, remove the duplicate element without using any extra data structure.\n",
    "def removeDuplicate1(arr,n):\n",
    "    index=0\n",
    "    for i in range(1,n):\n",
    "        if arr[i]!=arr[index]:\n",
    "            index+=1\n",
    "            arr[index]=arr[i]\n",
    "            \n",
    "    return arr[:index+1]\n",
    "\n",
    "def removeDuplicate2(arr,n):\n",
    "    i=0\n",
    "    l=n-1\n",
    "    while i<l:\n",
    "        if arr[i]==arr[i+1]:\n",
    "            arr.pop(i) # remove duplicate element with decrementing array size by 1 with each removal\n",
    "            l-=1\n",
    "        else:\n",
    "            i+=1 \n",
    "    return arr\n",
    "        \n",
    "        \n",
    "arr = [1, 1, 2, 2, 2, 3, 3, 4, 4, 4, 5, 5]\n",
    "n=len(arr)\n",
    "result=removeDuplicate2(arr,n)\n",
    "print(result)"
   ]
  },
  {
   "cell_type": "code",
   "execution_count": null,
   "id": "c339878b",
   "metadata": {},
   "outputs": [],
   "source": []
  },
  {
   "cell_type": "code",
   "execution_count": null,
   "id": "2cb83fc6",
   "metadata": {},
   "outputs": [],
   "source": []
  }
 ],
 "metadata": {
  "kernelspec": {
   "display_name": "Python 3 (ipykernel)",
   "language": "python",
   "name": "python3"
  },
  "language_info": {
   "codemirror_mode": {
    "name": "ipython",
    "version": 3
   },
   "file_extension": ".py",
   "mimetype": "text/x-python",
   "name": "python",
   "nbconvert_exporter": "python",
   "pygments_lexer": "ipython3",
   "version": "3.9.13"
  }
 },
 "nbformat": 4,
 "nbformat_minor": 5
}
